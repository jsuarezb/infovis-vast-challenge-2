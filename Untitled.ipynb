{
 "cells": [
  {
   "cell_type": "code",
   "execution_count": 6,
   "metadata": {},
   "outputs": [
    {
     "name": "stdout",
     "output_type": "stream",
     "text": [
      "             id   value    location sample date                      measure\n",
      "0          2221   2.000     Boonsri   11-Jan-98            Water temperature\n",
      "1          2223   9.100     Boonsri   11-Jan-98             Dissolved oxygen\n",
      "2          2227   0.330     Boonsri   11-Jan-98                     Ammonium\n",
      "3          2228   0.010     Boonsri   11-Jan-98                     Nitrites\n",
      "4          2229   1.470     Boonsri   11-Jan-98                     Nitrates\n",
      "5          2230   0.060     Boonsri   11-Jan-98    Orthophosphate-phosphorus\n",
      "6          2231   0.090     Boonsri   11-Jan-98             Total phosphorus\n",
      "7          2232  13.900     Boonsri   11-Jan-98                       Sodium\n",
      "8          2233   3.500     Boonsri   11-Jan-98                    Potassium\n",
      "9          2234  52.000     Boonsri   11-Jan-98                      Calcium\n",
      "10         2235   9.700     Boonsri   11-Jan-98                    Magnesium\n",
      "11         2236  19.200     Boonsri   11-Jan-98                    Chlorides\n",
      "12         2237  36.700     Boonsri   11-Jan-98                    Sulphates\n",
      "13         2238   4.950     Boonsri   11-Jan-98                         Iron\n",
      "14         2239   0.010     Boonsri   11-Jan-98                    Manganese\n",
      "15         2240  21.000     Boonsri   11-Jan-98                         Zinc\n",
      "16         2241  22.000     Boonsri   11-Jan-98                       Copper\n",
      "17         2242  17.000     Boonsri   11-Jan-98                     Chromium\n",
      "18         2243   0.000     Boonsri   11-Jan-98                         Lead\n",
      "19         2244   0.000     Boonsri   11-Jan-98                      Cadmium\n",
      "20         2245   0.000     Boonsri   11-Jan-98                      Mercury\n",
      "21         2246   5.000     Boonsri   11-Jan-98                       Nickel\n",
      "22         2247   0.000     Boonsri   11-Jan-98                      Arsenic\n",
      "23         2248   3.600     Boonsri   11-Jan-98           Biochemical Oxygen\n",
      "24         2249  13.800     Boonsri   11-Jan-98  Chemical Oxygen Demand (Cr)\n",
      "25         2250   4.800     Boonsri   11-Jan-98  Chemical Oxygen Demand (Mn)\n",
      "26         2251   0.000     Boonsri   11-Jan-98                          AOX\n",
      "27         2253   0.000     Boonsri   11-Jan-98                     Atrazine\n",
      "28         2254   0.000     Boonsri   11-Jan-98                       Cesium\n",
      "29         2256   0.000     Boonsri   11-Jan-98              Macrozoobenthos\n",
      "...         ...     ...         ...         ...                          ...\n",
      "136794  3282866   0.153  Busarakhan   17-Dec-16                     Ammonium\n",
      "136795  3282867   0.027  Busarakhan   17-Dec-16                     Nitrites\n",
      "136796  3282868   1.040  Busarakhan   17-Dec-16                     Nitrates\n",
      "136797  3282869   1.260  Busarakhan   17-Dec-16               Total nitrogen\n",
      "136798  3282870   0.020  Busarakhan   17-Dec-16    Orthophosphate-phosphorus\n",
      "136799  3282871   0.055  Busarakhan   17-Dec-16             Total phosphorus\n",
      "136800  3282872   0.051  Busarakhan   17-Dec-16   Total dissolved phosphorus\n",
      "136801  3282873   1.100  Busarakhan   17-Dec-16           Biochemical Oxygen\n",
      "136802  3295780   5.000        Chai   17-Dec-16            Water temperature\n",
      "136803  3295782   5.600        Chai   18-Dec-16            Water temperature\n",
      "136804  3295784   5.000        Chai   19-Dec-16            Water temperature\n",
      "136805  3295786   5.000        Chai   20-Dec-16            Water temperature\n",
      "136806  3295788   5.400        Chai   21-Dec-16            Water temperature\n",
      "136807  3295790   5.200        Chai   22-Dec-16            Water temperature\n",
      "136808  3283421   0.117       Decha   23-Dec-16                     Ammonium\n",
      "136809  3283422   0.022       Decha   23-Dec-16                     Nitrites\n",
      "136810  3283423   0.952       Decha   23-Dec-16                     Nitrates\n",
      "136811  3283424   1.576       Decha   23-Dec-16               Total nitrogen\n",
      "136812  3283425   0.026       Decha   23-Dec-16    Orthophosphate-phosphorus\n",
      "136813  3283426   0.120       Decha   23-Dec-16             Total phosphorus\n",
      "136814  3283427  23.600       Decha   23-Dec-16                    Chlorides\n",
      "136815  3295792   5.000        Chai   23-Dec-16            Water temperature\n",
      "136816  3295794   5.200        Chai   24-Dec-16            Water temperature\n",
      "136817  3295796   5.200        Chai   25-Dec-16            Water temperature\n",
      "136818  3295798   5.200        Chai   26-Dec-16            Water temperature\n",
      "136819  3295800   5.200        Chai   27-Dec-16            Water temperature\n",
      "136820  3295802   5.200        Chai   28-Dec-16            Water temperature\n",
      "136821  3295804   5.000        Chai   29-Dec-16            Water temperature\n",
      "136822  3295806   4.600        Chai   30-Dec-16            Water temperature\n",
      "136823  3295808   4.000        Chai   31-Dec-16            Water temperature\n",
      "\n",
      "[136824 rows x 5 columns]\n"
     ]
    }
   ],
   "source": [
    "import pandas as pd\n",
    "\n",
    "readings = pd.read_csv('resources/Boonsong Lekagul waterways readings.csv')\n",
    "measures = pd.read_csv('resources/chemical units of measure.csv', encoding = 'ISO-8859-1')\n",
    "\n",
    "print(readings)"
   ]
  },
  {
   "cell_type": "code",
   "execution_count": 8,
   "metadata": {},
   "outputs": [
    {
     "name": "stdout",
     "output_type": "stream",
     "text": [
      "count                136824\n",
      "unique                  106\n",
      "top       Water temperature\n",
      "freq                   5031\n",
      "Name: measure, dtype: object\n",
      "####\n",
      "count      136824\n",
      "unique         10\n",
      "top       Boonsri\n",
      "freq        31314\n",
      "Name: location, dtype: object\n"
     ]
    }
   ],
   "source": [
    "print(readings['measure'].describe())\n",
    "print('####')\n",
    "print(readings['location'].describe())"
   ]
  }
 ],
 "metadata": {
  "kernelspec": {
   "display_name": "Python 3",
   "language": "python",
   "name": "python3"
  },
  "language_info": {
   "codemirror_mode": {
    "name": "ipython",
    "version": 3
   },
   "file_extension": ".py",
   "mimetype": "text/x-python",
   "name": "python",
   "nbconvert_exporter": "python",
   "pygments_lexer": "ipython3",
   "version": "3.6.3"
  }
 },
 "nbformat": 4,
 "nbformat_minor": 2
}
